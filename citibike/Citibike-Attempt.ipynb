{
 "cells": [
  {
   "cell_type": "code",
   "execution_count": 109,
   "metadata": {
    "collapsed": false
   },
   "outputs": [
    {
     "name": "stdout",
     "output_type": "stream",
     "text": [
      "Populating the interactive namespace from numpy and matplotlib\n"
     ]
    }
   ],
   "source": [
    "import numpy as np\n",
    "import pandas as pd\n",
    "import os\n",
    "import matplotlib.pyplot as plt\n",
    "import csv\n",
    "import scipy.stats as stat\n",
    "%pylab inline"
   ]
  },
  {
   "cell_type": "code",
   "execution_count": 110,
   "metadata": {
    "collapsed": false
   },
   "outputs": [],
   "source": [
    "#have to figure out how to download file from somewhere else. If we keep this in the directory, github gets clogged.\n",
    "\n",
    "os.chdir('/Users/johnhall/PUI2015/')\n",
    "df0 = pd.read_csv('2014-02 - Citi Bike trip data.csv')\n",
    "df1 = pd.read_csv('2014-08 - Citi Bike trip data.csv')"
   ]
  },
  {
   "cell_type": "code",
   "execution_count": 111,
   "metadata": {
    "collapsed": false
   },
   "outputs": [],
   "source": [
    "#we are doing a two sample test of proportions, so:\n",
    "\n",
    "def ztest_twosides(teststat, nullvalue,  se, alpha):\n",
    "    Ztest = (teststat-nullvalue)/se\n",
    "    pvalue = stat.norm.pdf(Ztest)\n",
    "    if Ztest > 0.: #this considers both sides of 0, e.g. when Z is 1SD, the value ~ .8413\n",
    "        pvalue = 1. -pvalue\n",
    "    pvalue *= 2.\n",
    "    crit1 = stat.norm.ppf(alpha/2.) \n",
    "    crit2 = stat.norm.ppf(1-alpha/2.)\n",
    "    return pvalue, Ztest, (crit1,crit2)\n",
    "\n",
    "def two_proportions(x0, n0, x1, n1, alpha=0.05):\n",
    "    p0 = float(x0)/n0\n",
    "    p1 = float(x1)/n1\n",
    "    p = float(x0 +x1)/(n0+n1)\n",
    "    samplestat =  p0 - p1 #sample statistic\n",
    "    se = sqrt(p*(1.0-p) * (1.0/n0 + 1.0/n1))\n",
    "    return ztest_twosides(samplestat,0,  se,  alpha)\n",
    "\n",
    "def program_output(pvalue,Ztest,(zcrit1,zcrit2)):\n",
    "    print \"hi\"\n",
    "    \n",
    "                \n",
    "    \n",
    "    \n",
    " "
   ]
  },
  {
   "cell_type": "code",
   "execution_count": 112,
   "metadata": {
    "collapsed": false
   },
   "outputs": [],
   "source": [
    "#fraction of 'tourists' is the desired proportion, and we'd liek to see what happend with the 'treatment', i.e. summer.\n",
    "x0 = df0['usertype'].value_counts()[1]  #<-can we do better than this? I worry that it isn't 'abstract' enough\n",
    "x1 = df1['usertype'].value_counts()[1]\n",
    "n0 = len(df0.index)\n",
    "n1 = len(df1.index)"
   ]
  },
  {
   "cell_type": "code",
   "execution_count": 113,
   "metadata": {
    "collapsed": false
   },
   "outputs": [
    {
     "data": {
      "text/plain": [
       "(0.0, -145.98962036987621, (-2.5758293035489008, 2.5758293035489004))"
      ]
     },
     "execution_count": 113,
     "metadata": {},
     "output_type": "execute_result"
    }
   ],
   "source": [
    "two_proportions(x0, n0, x1, n1, 0.01) #should return p-value, z, and critical valies\n"
   ]
  },
  {
   "cell_type": "code",
   "execution_count": 114,
   "metadata": {
    "collapsed": false
   },
   "outputs": [],
   "source": [
    "#maybe if we wish to do additional testing especially ChiSq, we'd look at day of week and proportion of 'Customers'?\n",
    "def weekday_maker(df,column_name):\n",
    "    df[column_name] = pd.to_datetime[df.column_name]\n",
    "    df['weekday'] = df[column_name].dt.dayofweek\n",
    "    days = {0:'Mon',1:'Tues',2:'Weds',3:'Thurs',4:'Fri',5:'Sat',6:'Sun'}\n",
    "    df['weekday'] = df['weekday'].apply(lambda x: days[x])\n",
    "\n"
   ]
  },
  {
   "cell_type": "code",
   "execution_count": 120,
   "metadata": {
    "collapsed": false
   },
   "outputs": [],
   "source": [
    "weekday_maker(df0,'starttime')"
   ]
  },
  {
   "cell_type": "code",
   "execution_count": 119,
   "metadata": {
    "collapsed": false
   },
   "outputs": [
    {
     "data": {
      "text/html": [
       "<div style=\"max-height:1000px;max-width:1500px;overflow:auto;\">\n",
       "<table border=\"1\" class=\"dataframe\">\n",
       "  <thead>\n",
       "    <tr style=\"text-align: right;\">\n",
       "      <th></th>\n",
       "      <th>tripduration</th>\n",
       "      <th>starttime</th>\n",
       "      <th>stoptime</th>\n",
       "      <th>start station id</th>\n",
       "      <th>start station name</th>\n",
       "      <th>start station latitude</th>\n",
       "      <th>start station longitude</th>\n",
       "      <th>end station id</th>\n",
       "      <th>end station name</th>\n",
       "      <th>end station latitude</th>\n",
       "      <th>end station longitude</th>\n",
       "      <th>bikeid</th>\n",
       "      <th>usertype</th>\n",
       "      <th>birth year</th>\n",
       "      <th>gender</th>\n",
       "    </tr>\n",
       "  </thead>\n",
       "  <tbody>\n",
       "    <tr>\n",
       "      <th>0</th>\n",
       "      <td> 382</td>\n",
       "      <td> 2014-02-01 00:00:00</td>\n",
       "      <td> 2014-02-01 00:06:22</td>\n",
       "      <td> 294</td>\n",
       "      <td>     Washington Square E</td>\n",
       "      <td> 40.730494</td>\n",
       "      <td>-73.995721</td>\n",
       "      <td> 265</td>\n",
       "      <td> Stanton St &amp; Chrystie St</td>\n",
       "      <td> 40.722293</td>\n",
       "      <td>-73.991475</td>\n",
       "      <td> 21101</td>\n",
       "      <td> Subscriber</td>\n",
       "      <td> 1991</td>\n",
       "      <td> 1</td>\n",
       "    </tr>\n",
       "    <tr>\n",
       "      <th>1</th>\n",
       "      <td> 372</td>\n",
       "      <td> 2014-02-01 00:00:03</td>\n",
       "      <td> 2014-02-01 00:06:15</td>\n",
       "      <td> 285</td>\n",
       "      <td>      Broadway &amp; E 14 St</td>\n",
       "      <td> 40.734546</td>\n",
       "      <td>-73.990741</td>\n",
       "      <td> 439</td>\n",
       "      <td>           E 4 St &amp; 2 Ave</td>\n",
       "      <td> 40.726281</td>\n",
       "      <td>-73.989780</td>\n",
       "      <td> 15456</td>\n",
       "      <td> Subscriber</td>\n",
       "      <td> 1979</td>\n",
       "      <td> 2</td>\n",
       "    </tr>\n",
       "    <tr>\n",
       "      <th>2</th>\n",
       "      <td> 591</td>\n",
       "      <td> 2014-02-01 00:00:09</td>\n",
       "      <td> 2014-02-01 00:10:00</td>\n",
       "      <td> 247</td>\n",
       "      <td>  Perry St &amp; Bleecker St</td>\n",
       "      <td> 40.735354</td>\n",
       "      <td>-74.004831</td>\n",
       "      <td> 251</td>\n",
       "      <td>      Mott St &amp; Prince St</td>\n",
       "      <td> 40.723180</td>\n",
       "      <td>-73.994800</td>\n",
       "      <td> 16281</td>\n",
       "      <td> Subscriber</td>\n",
       "      <td> 1948</td>\n",
       "      <td> 2</td>\n",
       "    </tr>\n",
       "    <tr>\n",
       "      <th>3</th>\n",
       "      <td> 583</td>\n",
       "      <td> 2014-02-01 00:00:32</td>\n",
       "      <td> 2014-02-01 00:10:15</td>\n",
       "      <td> 357</td>\n",
       "      <td>      E 11 St &amp; Broadway</td>\n",
       "      <td> 40.732618</td>\n",
       "      <td>-73.991580</td>\n",
       "      <td> 284</td>\n",
       "      <td>    Greenwich Ave &amp; 8 Ave</td>\n",
       "      <td> 40.739017</td>\n",
       "      <td>-74.002638</td>\n",
       "      <td> 17400</td>\n",
       "      <td> Subscriber</td>\n",
       "      <td> 1981</td>\n",
       "      <td> 1</td>\n",
       "    </tr>\n",
       "    <tr>\n",
       "      <th>4</th>\n",
       "      <td> 223</td>\n",
       "      <td> 2014-02-01 00:00:41</td>\n",
       "      <td> 2014-02-01 00:04:24</td>\n",
       "      <td> 401</td>\n",
       "      <td> Allen St &amp; Rivington St</td>\n",
       "      <td> 40.720196</td>\n",
       "      <td>-73.989978</td>\n",
       "      <td> 439</td>\n",
       "      <td>           E 4 St &amp; 2 Ave</td>\n",
       "      <td> 40.726281</td>\n",
       "      <td>-73.989780</td>\n",
       "      <td> 19341</td>\n",
       "      <td> Subscriber</td>\n",
       "      <td> 1990</td>\n",
       "      <td> 1</td>\n",
       "    </tr>\n",
       "  </tbody>\n",
       "</table>\n",
       "</div>"
      ],
      "text/plain": [
       "   tripduration            starttime             stoptime  start station id  \\\n",
       "0           382  2014-02-01 00:00:00  2014-02-01 00:06:22               294   \n",
       "1           372  2014-02-01 00:00:03  2014-02-01 00:06:15               285   \n",
       "2           591  2014-02-01 00:00:09  2014-02-01 00:10:00               247   \n",
       "3           583  2014-02-01 00:00:32  2014-02-01 00:10:15               357   \n",
       "4           223  2014-02-01 00:00:41  2014-02-01 00:04:24               401   \n",
       "\n",
       "        start station name  start station latitude  start station longitude  \\\n",
       "0      Washington Square E               40.730494               -73.995721   \n",
       "1       Broadway & E 14 St               40.734546               -73.990741   \n",
       "2   Perry St & Bleecker St               40.735354               -74.004831   \n",
       "3       E 11 St & Broadway               40.732618               -73.991580   \n",
       "4  Allen St & Rivington St               40.720196               -73.989978   \n",
       "\n",
       "   end station id          end station name  end station latitude  \\\n",
       "0             265  Stanton St & Chrystie St             40.722293   \n",
       "1             439            E 4 St & 2 Ave             40.726281   \n",
       "2             251       Mott St & Prince St             40.723180   \n",
       "3             284     Greenwich Ave & 8 Ave             40.739017   \n",
       "4             439            E 4 St & 2 Ave             40.726281   \n",
       "\n",
       "   end station longitude  bikeid    usertype birth year  gender  \n",
       "0             -73.991475   21101  Subscriber       1991       1  \n",
       "1             -73.989780   15456  Subscriber       1979       2  \n",
       "2             -73.994800   16281  Subscriber       1948       2  \n",
       "3             -74.002638   17400  Subscriber       1981       1  \n",
       "4             -73.989780   19341  Subscriber       1990       1  "
      ]
     },
     "execution_count": 119,
     "metadata": {},
     "output_type": "execute_result"
    }
   ],
   "source": [
    "df0.head()"
   ]
  },
  {
   "cell_type": "code",
   "execution_count": null,
   "metadata": {
    "collapsed": true
   },
   "outputs": [],
   "source": []
  }
 ],
 "metadata": {
  "kernelspec": {
   "display_name": "Python 2",
   "language": "python",
   "name": "python2"
  },
  "language_info": {
   "codemirror_mode": {
    "name": "ipython",
    "version": 2
   },
   "file_extension": ".py",
   "mimetype": "text/x-python",
   "name": "python",
   "nbconvert_exporter": "python",
   "pygments_lexer": "ipython2",
   "version": "2.7.9"
  }
 },
 "nbformat": 4,
 "nbformat_minor": 0
}
