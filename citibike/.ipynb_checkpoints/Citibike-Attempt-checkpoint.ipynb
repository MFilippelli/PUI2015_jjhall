{
 "cells": [
  {
   "cell_type": "code",
   "execution_count": 63,
   "metadata": {
    "collapsed": false
   },
   "outputs": [
    {
     "name": "stdout",
     "output_type": "stream",
     "text": [
      "Populating the interactive namespace from numpy and matplotlib\n"
     ]
    }
   ],
   "source": [
    "import numpy as np\n",
    "import pandas as pd\n",
    "import os\n",
    "import matplotlib.pyplot as plt\n",
    "import csv\n",
    "import scipy.stats as stat\n",
    "%pylab inline"
   ]
  },
  {
   "cell_type": "code",
   "execution_count": 64,
   "metadata": {
    "collapsed": false
   },
   "outputs": [],
   "source": [
    "#have to figure out how to download file from somewhere else. If we keep this in the directory, github gets clogged.\n",
    "\n",
    "os.chdir('/Users/johnhall/PUI2015/')\n",
    "df0 = pd.read_csv('2014-02 - Citi Bike trip data.csv')\n",
    "df1 = pd.read_csv('2014-08 - Citi Bike trip data.csv')"
   ]
  },
  {
   "cell_type": "code",
   "execution_count": 83,
   "metadata": {
    "collapsed": false
   },
   "outputs": [],
   "source": [
    "#we are doing a two sample test of proportions, so:\n",
    "\n",
    "def ztest_twosides(teststat, nullvalue,  se, alpha):\n",
    "    Ztest = (teststat-nullvalue)/se\n",
    "    pvalue = stat.norm.pdf(Ztest)\n",
    "    if Ztest > 0.: #this considers both sides of 0, e.g. when Z is 1SD, the value ~ .8413\n",
    "        pvalue = 1. -pvalue\n",
    "    pvalue *= 2.\n",
    "    crit1 = stat.norm.ppf(alpha/2.) \n",
    "    crit2 = stat.norm.ppf(1-alpha/2.)\n",
    "    return pvalue, Ztest, (crit1,crit2)\n",
    "\n",
    "def two_proportions(x0, n0, x1, n1, alpha=0.05):\n",
    "    p0 = float(x0)/n0\n",
    "    p1 = float(x1)/n1\n",
    "    p = float(x0 +x1)/(n0+n1)\n",
    "    samplestat =  p0 - p1 #sample statistic\n",
    "    se = sqrt(p*(1.0-p) * (1.0/n0 + 1.0/n1))\n",
    "    return ztest_twosides(samplestat,0,  se,  alpha)\n",
    "\n",
    "def program_output(pvalue,Ztest,(zcrit1,zcrit2)):\n",
    "    print \"hi\"\n",
    "    \n",
    "                \n",
    "    \n",
    "    \n",
    " "
   ]
  },
  {
   "cell_type": "code",
   "execution_count": 84,
   "metadata": {
    "collapsed": false
   },
   "outputs": [],
   "source": [
    "#fraction of 'tourists' is the desired proportion, and we'd liek to see what happend with the 'treatment', i.e. summer.\n",
    "x0 = df0['usertype'].value_counts()[1]  #<-can we do better than this?\n",
    "x1 = df1['usertype'].value_counts()[1]\n",
    "n0 = len(df0.index)\n",
    "n1 = len(df1.index)"
   ]
  },
  {
   "cell_type": "code",
   "execution_count": 85,
   "metadata": {
    "collapsed": false
   },
   "outputs": [
    {
     "data": {
      "text/plain": [
       "(0.0, -145.98962036987621, (-1.6448536269514729, 1.6448536269514722))"
      ]
     },
     "execution_count": 85,
     "metadata": {},
     "output_type": "execute_result"
    }
   ],
   "source": [
    "two_proportions(x0, n0, x1, n1, 0.1) #should return p-value, z, and critical valies\n"
   ]
  },
  {
   "cell_type": "code",
   "execution_count": null,
   "metadata": {
    "collapsed": true
   },
   "outputs": [],
   "source": []
  },
  {
   "cell_type": "code",
   "execution_count": null,
   "metadata": {
    "collapsed": true
   },
   "outputs": [],
   "source": []
  }
 ],
 "metadata": {
  "kernelspec": {
   "display_name": "Python 2",
   "language": "python",
   "name": "python2"
  },
  "language_info": {
   "codemirror_mode": {
    "name": "ipython",
    "version": 2
   },
   "file_extension": ".py",
   "mimetype": "text/x-python",
   "name": "python",
   "nbconvert_exporter": "python",
   "pygments_lexer": "ipython2",
   "version": "2.7.9"
  }
 },
 "nbformat": 4,
 "nbformat_minor": 0
}
